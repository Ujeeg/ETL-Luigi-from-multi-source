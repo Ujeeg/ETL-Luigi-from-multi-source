{
 "cells": [
  {
   "cell_type": "code",
   "execution_count": 34,
   "id": "59379845",
   "metadata": {},
   "outputs": [],
   "source": [
    "import pandas as pd\n",
    "from bs4 import BeautifulSoup\n",
    "import requests"
   ]
  },
  {
   "cell_type": "code",
   "execution_count": 35,
   "id": "bf848e72",
   "metadata": {},
   "outputs": [],
   "source": [
    "df = pd.read_csv('Data_source/books_data.csv')"
   ]
  },
  {
   "cell_type": "code",
   "execution_count": 36,
   "id": "b8e85d5b",
   "metadata": {},
   "outputs": [
    {
     "data": {
      "text/html": [
       "<div>\n",
       "<style scoped>\n",
       "    .dataframe tbody tr th:only-of-type {\n",
       "        vertical-align: middle;\n",
       "    }\n",
       "\n",
       "    .dataframe tbody tr th {\n",
       "        vertical-align: top;\n",
       "    }\n",
       "\n",
       "    .dataframe thead th {\n",
       "        text-align: right;\n",
       "    }\n",
       "</style>\n",
       "<table border=\"1\" class=\"dataframe\">\n",
       "  <thead>\n",
       "    <tr style=\"text-align: right;\">\n",
       "      <th></th>\n",
       "      <th>title</th>\n",
       "      <th>price</th>\n",
       "      <th>link_product</th>\n",
       "      <th>img_url</th>\n",
       "      <th>rating</th>\n",
       "    </tr>\n",
       "  </thead>\n",
       "  <tbody>\n",
       "    <tr>\n",
       "      <th>0</th>\n",
       "      <td>A Light in the Attic</td>\n",
       "      <td>Â£51.77</td>\n",
       "      <td>https://books.toscrape.com/catalogue/a-light-i...</td>\n",
       "      <td>https://books.toscrape.com/../media/cache/2c/d...</td>\n",
       "      <td>Three</td>\n",
       "    </tr>\n",
       "    <tr>\n",
       "      <th>1</th>\n",
       "      <td>Tipping the Velvet</td>\n",
       "      <td>Â£53.74</td>\n",
       "      <td>https://books.toscrape.com/catalogue/tipping-t...</td>\n",
       "      <td>https://books.toscrape.com/../media/cache/26/0...</td>\n",
       "      <td>One</td>\n",
       "    </tr>\n",
       "    <tr>\n",
       "      <th>2</th>\n",
       "      <td>Soumission</td>\n",
       "      <td>Â£50.10</td>\n",
       "      <td>https://books.toscrape.com/catalogue/soumissio...</td>\n",
       "      <td>https://books.toscrape.com/../media/cache/3e/e...</td>\n",
       "      <td>One</td>\n",
       "    </tr>\n",
       "    <tr>\n",
       "      <th>3</th>\n",
       "      <td>Sharp Objects</td>\n",
       "      <td>Â£47.82</td>\n",
       "      <td>https://books.toscrape.com/catalogue/sharp-obj...</td>\n",
       "      <td>https://books.toscrape.com/../media/cache/32/5...</td>\n",
       "      <td>Four</td>\n",
       "    </tr>\n",
       "    <tr>\n",
       "      <th>4</th>\n",
       "      <td>Sapiens: A Brief History of Humankind</td>\n",
       "      <td>Â£54.23</td>\n",
       "      <td>https://books.toscrape.com/catalogue/sapiens-a...</td>\n",
       "      <td>https://books.toscrape.com/../media/cache/be/a...</td>\n",
       "      <td>Five</td>\n",
       "    </tr>\n",
       "    <tr>\n",
       "      <th>...</th>\n",
       "      <td>...</td>\n",
       "      <td>...</td>\n",
       "      <td>...</td>\n",
       "      <td>...</td>\n",
       "      <td>...</td>\n",
       "    </tr>\n",
       "    <tr>\n",
       "      <th>995</th>\n",
       "      <td>Alice in Wonderland (Alice's Adventures in Won...</td>\n",
       "      <td>Â£55.53</td>\n",
       "      <td>https://books.toscrape.com/catalogue/alice-in-...</td>\n",
       "      <td>https://books.toscrape.com/../media/cache/96/e...</td>\n",
       "      <td>One</td>\n",
       "    </tr>\n",
       "    <tr>\n",
       "      <th>996</th>\n",
       "      <td>Ajin: Demi-Human, Volume 1 (Ajin: Demi-Human #1)</td>\n",
       "      <td>Â£57.06</td>\n",
       "      <td>https://books.toscrape.com/catalogue/ajin-demi...</td>\n",
       "      <td>https://books.toscrape.com/../media/cache/09/7...</td>\n",
       "      <td>Four</td>\n",
       "    </tr>\n",
       "    <tr>\n",
       "      <th>997</th>\n",
       "      <td>A Spy's Devotion (The Regency Spies of London #1)</td>\n",
       "      <td>Â£16.97</td>\n",
       "      <td>https://books.toscrape.com/catalogue/a-spys-de...</td>\n",
       "      <td>https://books.toscrape.com/../media/cache/1b/5...</td>\n",
       "      <td>Five</td>\n",
       "    </tr>\n",
       "    <tr>\n",
       "      <th>998</th>\n",
       "      <td>1st to Die (Women's Murder Club #1)</td>\n",
       "      <td>Â£53.98</td>\n",
       "      <td>https://books.toscrape.com/catalogue/1st-to-di...</td>\n",
       "      <td>https://books.toscrape.com/../media/cache/2b/4...</td>\n",
       "      <td>One</td>\n",
       "    </tr>\n",
       "    <tr>\n",
       "      <th>999</th>\n",
       "      <td>1,000 Places to See Before You Die</td>\n",
       "      <td>Â£26.08</td>\n",
       "      <td>https://books.toscrape.com/catalogue/1000-plac...</td>\n",
       "      <td>https://books.toscrape.com/../media/cache/d7/0...</td>\n",
       "      <td>Five</td>\n",
       "    </tr>\n",
       "  </tbody>\n",
       "</table>\n",
       "<p>1000 rows × 5 columns</p>\n",
       "</div>"
      ],
      "text/plain": [
       "                                                 title    price  \\\n",
       "0                                 A Light in the Attic  Â£51.77   \n",
       "1                                   Tipping the Velvet  Â£53.74   \n",
       "2                                           Soumission  Â£50.10   \n",
       "3                                        Sharp Objects  Â£47.82   \n",
       "4                Sapiens: A Brief History of Humankind  Â£54.23   \n",
       "..                                                 ...      ...   \n",
       "995  Alice in Wonderland (Alice's Adventures in Won...  Â£55.53   \n",
       "996   Ajin: Demi-Human, Volume 1 (Ajin: Demi-Human #1)  Â£57.06   \n",
       "997  A Spy's Devotion (The Regency Spies of London #1)  Â£16.97   \n",
       "998                1st to Die (Women's Murder Club #1)  Â£53.98   \n",
       "999                 1,000 Places to See Before You Die  Â£26.08   \n",
       "\n",
       "                                          link_product  \\\n",
       "0    https://books.toscrape.com/catalogue/a-light-i...   \n",
       "1    https://books.toscrape.com/catalogue/tipping-t...   \n",
       "2    https://books.toscrape.com/catalogue/soumissio...   \n",
       "3    https://books.toscrape.com/catalogue/sharp-obj...   \n",
       "4    https://books.toscrape.com/catalogue/sapiens-a...   \n",
       "..                                                 ...   \n",
       "995  https://books.toscrape.com/catalogue/alice-in-...   \n",
       "996  https://books.toscrape.com/catalogue/ajin-demi...   \n",
       "997  https://books.toscrape.com/catalogue/a-spys-de...   \n",
       "998  https://books.toscrape.com/catalogue/1st-to-di...   \n",
       "999  https://books.toscrape.com/catalogue/1000-plac...   \n",
       "\n",
       "                                               img_url rating  \n",
       "0    https://books.toscrape.com/../media/cache/2c/d...  Three  \n",
       "1    https://books.toscrape.com/../media/cache/26/0...    One  \n",
       "2    https://books.toscrape.com/../media/cache/3e/e...    One  \n",
       "3    https://books.toscrape.com/../media/cache/32/5...   Four  \n",
       "4    https://books.toscrape.com/../media/cache/be/a...   Five  \n",
       "..                                                 ...    ...  \n",
       "995  https://books.toscrape.com/../media/cache/96/e...    One  \n",
       "996  https://books.toscrape.com/../media/cache/09/7...   Four  \n",
       "997  https://books.toscrape.com/../media/cache/1b/5...   Five  \n",
       "998  https://books.toscrape.com/../media/cache/2b/4...    One  \n",
       "999  https://books.toscrape.com/../media/cache/d7/0...   Five  \n",
       "\n",
       "[1000 rows x 5 columns]"
      ]
     },
     "execution_count": 36,
     "metadata": {},
     "output_type": "execute_result"
    }
   ],
   "source": [
    "df"
   ]
  },
  {
   "cell_type": "code",
   "execution_count": 37,
   "id": "670c960b",
   "metadata": {},
   "outputs": [
    {
     "data": {
      "text/plain": [
       "0      51.77\n",
       "1      53.74\n",
       "2      50.10\n",
       "3      47.82\n",
       "4      54.23\n",
       "       ...  \n",
       "995    55.53\n",
       "996    57.06\n",
       "997    16.97\n",
       "998    53.98\n",
       "999    26.08\n",
       "Name: price, Length: 1000, dtype: object"
      ]
     },
     "execution_count": 37,
     "metadata": {},
     "output_type": "execute_result"
    }
   ],
   "source": [
    "df['price'].str.replace('Â£','')"
   ]
  },
  {
   "cell_type": "code",
   "execution_count": null,
   "id": "b82a28a8",
   "metadata": {},
   "outputs": [],
   "source": [
    "def fix_price(price):\n",
    "    string = str(price)\n",
    "    float_data = string.replace('Â£','')\n",
    "    return float_data.astype(float)"
   ]
  },
  {
   "cell_type": "code",
   "execution_count": 49,
   "id": "82b2f662",
   "metadata": {},
   "outputs": [],
   "source": [
    "df['price'] = df['price'].apply(fix_price)"
   ]
  },
  {
   "cell_type": "code",
   "execution_count": 50,
   "id": "6f6e9293",
   "metadata": {},
   "outputs": [
    {
     "data": {
      "text/plain": [
       "0      51.77\n",
       "1      53.74\n",
       "2      50.10\n",
       "3      47.82\n",
       "4      54.23\n",
       "       ...  \n",
       "995    55.53\n",
       "996    57.06\n",
       "997    16.97\n",
       "998    53.98\n",
       "999    26.08\n",
       "Name: price, Length: 1000, dtype: object"
      ]
     },
     "execution_count": 50,
     "metadata": {},
     "output_type": "execute_result"
    }
   ],
   "source": [
    "df['price']"
   ]
  },
  {
   "cell_type": "code",
   "execution_count": null,
   "id": "425d8f96",
   "metadata": {},
   "outputs": [],
   "source": []
  }
 ],
 "metadata": {
  "kernelspec": {
   "display_name": ".venv",
   "language": "python",
   "name": "python3"
  },
  "language_info": {
   "codemirror_mode": {
    "name": "ipython",
    "version": 3
   },
   "file_extension": ".py",
   "mimetype": "text/x-python",
   "name": "python",
   "nbconvert_exporter": "python",
   "pygments_lexer": "ipython3",
   "version": "3.12.3"
  }
 },
 "nbformat": 4,
 "nbformat_minor": 5
}
