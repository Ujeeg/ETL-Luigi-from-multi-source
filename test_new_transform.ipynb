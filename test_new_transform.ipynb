{
 "cells": [
  {
   "cell_type": "code",
   "execution_count": 201,
   "id": "592f9ff4",
   "metadata": {},
   "outputs": [
    {
     "name": "stdout",
     "output_type": "stream",
     "text": [
      "/bin/python\n"
     ]
    }
   ],
   "source": [
    "import sys\n",
    "print(sys.executable)"
   ]
  },
  {
   "cell_type": "code",
   "execution_count": 202,
   "id": "613953d4",
   "metadata": {},
   "outputs": [],
   "source": [
    "import pandas as pd\n"
   ]
  },
  {
   "cell_type": "code",
   "execution_count": 203,
   "id": "f4fb438d",
   "metadata": {},
   "outputs": [],
   "source": [
    "file = 'data/transform/transform_marketing.csv'\n",
    "df = pd.read_csv(file)"
   ]
  },
  {
   "cell_type": "markdown",
   "id": "bb49f8d5",
   "metadata": {},
   "source": []
  },
  {
   "cell_type": "code",
   "execution_count": 204,
   "id": "8fc833ba",
   "metadata": {},
   "outputs": [
    {
     "name": "stdout",
     "output_type": "stream",
     "text": [
      "<class 'pandas.core.frame.DataFrame'>\n",
      "RangeIndex: 7046 entries, 0 to 7045\n",
      "Data columns (total 26 columns):\n",
      " #   Column               Non-Null Count  Dtype  \n",
      "---  ------               --------------  -----  \n",
      " 0   id                   7046 non-null   object \n",
      " 1   prices_amount_max    7046 non-null   float64\n",
      " 2   prices_amount_min    7046 non-null   float64\n",
      " 3   prices_availability  7046 non-null   object \n",
      " 4   prices_condition     7046 non-null   object \n",
      " 5   prices_currency      7046 non-null   object \n",
      " 6   prices_date_seen     7046 non-null   object \n",
      " 7   prices_is_sale       7046 non-null   bool   \n",
      " 8   prices_merchant      7046 non-null   object \n",
      " 9   prices_shipping      7046 non-null   object \n",
      " 10  prices_source_urls   7046 non-null   object \n",
      " 11  asins                7046 non-null   object \n",
      " 12  brand                7046 non-null   object \n",
      " 13  categories           7046 non-null   object \n",
      " 14  dateAdded            7046 non-null   object \n",
      " 15  dateUpdated          7046 non-null   object \n",
      " 16  image_urls           7046 non-null   object \n",
      " 17  keys                 7046 non-null   object \n",
      " 18  manufacturer         7046 non-null   object \n",
      " 19  manufacturer_number  7046 non-null   object \n",
      " 20  name                 7046 non-null   object \n",
      " 21  primary_categories   7046 non-null   object \n",
      " 22  source_urls          7046 non-null   object \n",
      " 23  upc                  7046 non-null   object \n",
      " 24  weight               7046 non-null   object \n",
      " 25  shipping_cost        7046 non-null   float64\n",
      "dtypes: bool(1), float64(3), object(22)\n",
      "memory usage: 1.4+ MB\n"
     ]
    }
   ],
   "source": [
    "df.info()"
   ]
  },
  {
   "cell_type": "code",
   "execution_count": 205,
   "id": "72303620",
   "metadata": {},
   "outputs": [
    {
     "data": {
      "text/plain": [
       "prices_availability\n",
       "In Stock               6671\n",
       "PreOrder                200\n",
       "Out of Stock            135\n",
       "Unknown                  40\n",
       "Name: count, dtype: int64"
      ]
     },
     "execution_count": 205,
     "metadata": {},
     "output_type": "execute_result"
    }
   ],
   "source": [
    "df[['prices_availability']].value_counts()"
   ]
  },
  {
   "cell_type": "code",
   "execution_count": 206,
   "id": "317f7130",
   "metadata": {},
   "outputs": [
    {
     "data": {
      "text/plain": [
       "prices_condition\n",
       "New            6821\n",
       "Used            141\n",
       "Refurbished      81\n",
       "Unknown           3\n",
       "Name: count, dtype: int64"
      ]
     },
     "execution_count": 206,
     "metadata": {},
     "output_type": "execute_result"
    }
   ],
   "source": [
    "df['prices_condition'].value_counts()"
   ]
  },
  {
   "cell_type": "code",
   "execution_count": 207,
   "id": "fb26e46c",
   "metadata": {},
   "outputs": [],
   "source": [
    "df_1 = df['weight'].str.split().str[:2].str.join(\" \")\n"
   ]
  },
  {
   "cell_type": "code",
   "execution_count": 208,
   "id": "b131cdb9",
   "metadata": {},
   "outputs": [],
   "source": [
    "def weight_to_kg(data):\n",
    "    data = data.split()\n",
    "    return len(data)"
   ]
  },
  {
   "cell_type": "code",
   "execution_count": 209,
   "id": "b3c38305",
   "metadata": {},
   "outputs": [],
   "source": [
    "df_1 = df_1.apply(weight_to_kg)"
   ]
  },
  {
   "cell_type": "code",
   "execution_count": 210,
   "id": "0feec4e3",
   "metadata": {},
   "outputs": [
    {
     "data": {
      "text/plain": [
       "weight\n",
       "2    7001\n",
       "1      45\n",
       "Name: count, dtype: int64"
      ]
     },
     "execution_count": 210,
     "metadata": {},
     "output_type": "execute_result"
    }
   ],
   "source": [
    "df_1.value_counts()"
   ]
  },
  {
   "cell_type": "code",
   "execution_count": null,
   "id": "d47bd7c7",
   "metadata": {},
   "outputs": [],
   "source": []
  }
 ],
 "metadata": {
  "kernelspec": {
   "display_name": "Python 3",
   "language": "python",
   "name": "python3"
  },
  "language_info": {
   "codemirror_mode": {
    "name": "ipython",
    "version": 3
   },
   "file_extension": ".py",
   "mimetype": "text/x-python",
   "name": "python",
   "nbconvert_exporter": "python",
   "pygments_lexer": "ipython3",
   "version": "3.13.7"
  }
 },
 "nbformat": 4,
 "nbformat_minor": 5
}
