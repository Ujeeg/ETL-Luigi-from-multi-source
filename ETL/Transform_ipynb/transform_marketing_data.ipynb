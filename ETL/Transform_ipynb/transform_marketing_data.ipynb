{
 "cells": [
  {
   "cell_type": "code",
   "execution_count": 5,
   "id": "d0bbfefb",
   "metadata": {},
   "outputs": [],
   "source": [
    "import pandas as pd\n",
    "from bs4 import BeautifulSoup\n",
    "import requests"
   ]
  },
  {
   "cell_type": "code",
   "execution_count": 6,
   "id": "848cc418",
   "metadata": {},
   "outputs": [
    {
     "ename": "ModuleNotFoundError",
     "evalue": "No module named 'ETL'",
     "output_type": "error",
     "traceback": [
      "\u001b[31m---------------------------------------------------------------------------\u001b[39m",
      "\u001b[31mModuleNotFoundError\u001b[39m                       Traceback (most recent call last)",
      "\u001b[36mCell\u001b[39m\u001b[36m \u001b[39m\u001b[32mIn[6]\u001b[39m\u001b[32m, line 1\u001b[39m\n\u001b[32m----> \u001b[39m\u001b[32m1\u001b[39m \u001b[38;5;28;01mfrom\u001b[39;00m\u001b[38;5;250m \u001b[39m\u001b[34;01mETL\u001b[39;00m\u001b[34;01m.\u001b[39;00m\u001b[34;01mextract\u001b[39;00m\u001b[34;01m.\u001b[39;00m\u001b[34;01mextract\u001b[39;00m\u001b[38;5;250m \u001b[39m\u001b[38;5;28;01mimport\u001b[39;00m Extract\n\u001b[32m      2\u001b[39m extract_class = Extract()\n",
      "\u001b[31mModuleNotFoundError\u001b[39m: No module named 'ETL'"
     ]
    }
   ],
   "source": [
    "from ETL.extract.extract import Extract\n",
    "extract_class = Extract()"
   ]
  },
  {
   "cell_type": "markdown",
   "id": "b8bfb8a9",
   "metadata": {},
   "source": [
    "Data sales_first"
   ]
  },
  {
   "cell_type": "code",
   "execution_count": 7,
   "id": "491ac131",
   "metadata": {},
   "outputs": [],
   "source": [
    "path_file = 'Data_sales_source/ElectronicsProductsPricingData.csv'\n"
   ]
  },
  {
   "cell_type": "code",
   "execution_count": 8,
   "id": "c56cb741",
   "metadata": {},
   "outputs": [
    {
     "ename": "FileNotFoundError",
     "evalue": "[Errno 2] No such file or directory: 'Data_sales_source/ElectronicsProductsPricingData.csv'",
     "output_type": "error",
     "traceback": [
      "\u001b[31m---------------------------------------------------------------------------\u001b[39m",
      "\u001b[31mFileNotFoundError\u001b[39m                         Traceback (most recent call last)",
      "\u001b[36mCell\u001b[39m\u001b[36m \u001b[39m\u001b[32mIn[8]\u001b[39m\u001b[32m, line 1\u001b[39m\n\u001b[32m----> \u001b[39m\u001b[32m1\u001b[39m df_sales = \u001b[43mpd\u001b[49m\u001b[43m.\u001b[49m\u001b[43mread_csv\u001b[49m\u001b[43m(\u001b[49m\u001b[43mpath_file\u001b[49m\u001b[43m)\u001b[49m\n",
      "\u001b[36mFile \u001b[39m\u001b[32m~/Documents/ETL-LUGI-PROJECT/.venv/lib/python3.12/site-packages/pandas/io/parsers/readers.py:1026\u001b[39m, in \u001b[36mread_csv\u001b[39m\u001b[34m(filepath_or_buffer, sep, delimiter, header, names, index_col, usecols, dtype, engine, converters, true_values, false_values, skipinitialspace, skiprows, skipfooter, nrows, na_values, keep_default_na, na_filter, verbose, skip_blank_lines, parse_dates, infer_datetime_format, keep_date_col, date_parser, date_format, dayfirst, cache_dates, iterator, chunksize, compression, thousands, decimal, lineterminator, quotechar, quoting, doublequote, escapechar, comment, encoding, encoding_errors, dialect, on_bad_lines, delim_whitespace, low_memory, memory_map, float_precision, storage_options, dtype_backend)\u001b[39m\n\u001b[32m   1013\u001b[39m kwds_defaults = _refine_defaults_read(\n\u001b[32m   1014\u001b[39m     dialect,\n\u001b[32m   1015\u001b[39m     delimiter,\n\u001b[32m   (...)\u001b[39m\u001b[32m   1022\u001b[39m     dtype_backend=dtype_backend,\n\u001b[32m   1023\u001b[39m )\n\u001b[32m   1024\u001b[39m kwds.update(kwds_defaults)\n\u001b[32m-> \u001b[39m\u001b[32m1026\u001b[39m \u001b[38;5;28;01mreturn\u001b[39;00m \u001b[43m_read\u001b[49m\u001b[43m(\u001b[49m\u001b[43mfilepath_or_buffer\u001b[49m\u001b[43m,\u001b[49m\u001b[43m \u001b[49m\u001b[43mkwds\u001b[49m\u001b[43m)\u001b[49m\n",
      "\u001b[36mFile \u001b[39m\u001b[32m~/Documents/ETL-LUGI-PROJECT/.venv/lib/python3.12/site-packages/pandas/io/parsers/readers.py:620\u001b[39m, in \u001b[36m_read\u001b[39m\u001b[34m(filepath_or_buffer, kwds)\u001b[39m\n\u001b[32m    617\u001b[39m _validate_names(kwds.get(\u001b[33m\"\u001b[39m\u001b[33mnames\u001b[39m\u001b[33m\"\u001b[39m, \u001b[38;5;28;01mNone\u001b[39;00m))\n\u001b[32m    619\u001b[39m \u001b[38;5;66;03m# Create the parser.\u001b[39;00m\n\u001b[32m--> \u001b[39m\u001b[32m620\u001b[39m parser = \u001b[43mTextFileReader\u001b[49m\u001b[43m(\u001b[49m\u001b[43mfilepath_or_buffer\u001b[49m\u001b[43m,\u001b[49m\u001b[43m \u001b[49m\u001b[43m*\u001b[49m\u001b[43m*\u001b[49m\u001b[43mkwds\u001b[49m\u001b[43m)\u001b[49m\n\u001b[32m    622\u001b[39m \u001b[38;5;28;01mif\u001b[39;00m chunksize \u001b[38;5;129;01mor\u001b[39;00m iterator:\n\u001b[32m    623\u001b[39m     \u001b[38;5;28;01mreturn\u001b[39;00m parser\n",
      "\u001b[36mFile \u001b[39m\u001b[32m~/Documents/ETL-LUGI-PROJECT/.venv/lib/python3.12/site-packages/pandas/io/parsers/readers.py:1620\u001b[39m, in \u001b[36mTextFileReader.__init__\u001b[39m\u001b[34m(self, f, engine, **kwds)\u001b[39m\n\u001b[32m   1617\u001b[39m     \u001b[38;5;28mself\u001b[39m.options[\u001b[33m\"\u001b[39m\u001b[33mhas_index_names\u001b[39m\u001b[33m\"\u001b[39m] = kwds[\u001b[33m\"\u001b[39m\u001b[33mhas_index_names\u001b[39m\u001b[33m\"\u001b[39m]\n\u001b[32m   1619\u001b[39m \u001b[38;5;28mself\u001b[39m.handles: IOHandles | \u001b[38;5;28;01mNone\u001b[39;00m = \u001b[38;5;28;01mNone\u001b[39;00m\n\u001b[32m-> \u001b[39m\u001b[32m1620\u001b[39m \u001b[38;5;28mself\u001b[39m._engine = \u001b[38;5;28;43mself\u001b[39;49m\u001b[43m.\u001b[49m\u001b[43m_make_engine\u001b[49m\u001b[43m(\u001b[49m\u001b[43mf\u001b[49m\u001b[43m,\u001b[49m\u001b[43m \u001b[49m\u001b[38;5;28;43mself\u001b[39;49m\u001b[43m.\u001b[49m\u001b[43mengine\u001b[49m\u001b[43m)\u001b[49m\n",
      "\u001b[36mFile \u001b[39m\u001b[32m~/Documents/ETL-LUGI-PROJECT/.venv/lib/python3.12/site-packages/pandas/io/parsers/readers.py:1880\u001b[39m, in \u001b[36mTextFileReader._make_engine\u001b[39m\u001b[34m(self, f, engine)\u001b[39m\n\u001b[32m   1878\u001b[39m     \u001b[38;5;28;01mif\u001b[39;00m \u001b[33m\"\u001b[39m\u001b[33mb\u001b[39m\u001b[33m\"\u001b[39m \u001b[38;5;129;01mnot\u001b[39;00m \u001b[38;5;129;01min\u001b[39;00m mode:\n\u001b[32m   1879\u001b[39m         mode += \u001b[33m\"\u001b[39m\u001b[33mb\u001b[39m\u001b[33m\"\u001b[39m\n\u001b[32m-> \u001b[39m\u001b[32m1880\u001b[39m \u001b[38;5;28mself\u001b[39m.handles = \u001b[43mget_handle\u001b[49m\u001b[43m(\u001b[49m\n\u001b[32m   1881\u001b[39m \u001b[43m    \u001b[49m\u001b[43mf\u001b[49m\u001b[43m,\u001b[49m\n\u001b[32m   1882\u001b[39m \u001b[43m    \u001b[49m\u001b[43mmode\u001b[49m\u001b[43m,\u001b[49m\n\u001b[32m   1883\u001b[39m \u001b[43m    \u001b[49m\u001b[43mencoding\u001b[49m\u001b[43m=\u001b[49m\u001b[38;5;28;43mself\u001b[39;49m\u001b[43m.\u001b[49m\u001b[43moptions\u001b[49m\u001b[43m.\u001b[49m\u001b[43mget\u001b[49m\u001b[43m(\u001b[49m\u001b[33;43m\"\u001b[39;49m\u001b[33;43mencoding\u001b[39;49m\u001b[33;43m\"\u001b[39;49m\u001b[43m,\u001b[49m\u001b[43m \u001b[49m\u001b[38;5;28;43;01mNone\u001b[39;49;00m\u001b[43m)\u001b[49m\u001b[43m,\u001b[49m\n\u001b[32m   1884\u001b[39m \u001b[43m    \u001b[49m\u001b[43mcompression\u001b[49m\u001b[43m=\u001b[49m\u001b[38;5;28;43mself\u001b[39;49m\u001b[43m.\u001b[49m\u001b[43moptions\u001b[49m\u001b[43m.\u001b[49m\u001b[43mget\u001b[49m\u001b[43m(\u001b[49m\u001b[33;43m\"\u001b[39;49m\u001b[33;43mcompression\u001b[39;49m\u001b[33;43m\"\u001b[39;49m\u001b[43m,\u001b[49m\u001b[43m \u001b[49m\u001b[38;5;28;43;01mNone\u001b[39;49;00m\u001b[43m)\u001b[49m\u001b[43m,\u001b[49m\n\u001b[32m   1885\u001b[39m \u001b[43m    \u001b[49m\u001b[43mmemory_map\u001b[49m\u001b[43m=\u001b[49m\u001b[38;5;28;43mself\u001b[39;49m\u001b[43m.\u001b[49m\u001b[43moptions\u001b[49m\u001b[43m.\u001b[49m\u001b[43mget\u001b[49m\u001b[43m(\u001b[49m\u001b[33;43m\"\u001b[39;49m\u001b[33;43mmemory_map\u001b[39;49m\u001b[33;43m\"\u001b[39;49m\u001b[43m,\u001b[49m\u001b[43m \u001b[49m\u001b[38;5;28;43;01mFalse\u001b[39;49;00m\u001b[43m)\u001b[49m\u001b[43m,\u001b[49m\n\u001b[32m   1886\u001b[39m \u001b[43m    \u001b[49m\u001b[43mis_text\u001b[49m\u001b[43m=\u001b[49m\u001b[43mis_text\u001b[49m\u001b[43m,\u001b[49m\n\u001b[32m   1887\u001b[39m \u001b[43m    \u001b[49m\u001b[43merrors\u001b[49m\u001b[43m=\u001b[49m\u001b[38;5;28;43mself\u001b[39;49m\u001b[43m.\u001b[49m\u001b[43moptions\u001b[49m\u001b[43m.\u001b[49m\u001b[43mget\u001b[49m\u001b[43m(\u001b[49m\u001b[33;43m\"\u001b[39;49m\u001b[33;43mencoding_errors\u001b[39;49m\u001b[33;43m\"\u001b[39;49m\u001b[43m,\u001b[49m\u001b[43m \u001b[49m\u001b[33;43m\"\u001b[39;49m\u001b[33;43mstrict\u001b[39;49m\u001b[33;43m\"\u001b[39;49m\u001b[43m)\u001b[49m\u001b[43m,\u001b[49m\n\u001b[32m   1888\u001b[39m \u001b[43m    \u001b[49m\u001b[43mstorage_options\u001b[49m\u001b[43m=\u001b[49m\u001b[38;5;28;43mself\u001b[39;49m\u001b[43m.\u001b[49m\u001b[43moptions\u001b[49m\u001b[43m.\u001b[49m\u001b[43mget\u001b[49m\u001b[43m(\u001b[49m\u001b[33;43m\"\u001b[39;49m\u001b[33;43mstorage_options\u001b[39;49m\u001b[33;43m\"\u001b[39;49m\u001b[43m,\u001b[49m\u001b[43m \u001b[49m\u001b[38;5;28;43;01mNone\u001b[39;49;00m\u001b[43m)\u001b[49m\u001b[43m,\u001b[49m\n\u001b[32m   1889\u001b[39m \u001b[43m\u001b[49m\u001b[43m)\u001b[49m\n\u001b[32m   1890\u001b[39m \u001b[38;5;28;01massert\u001b[39;00m \u001b[38;5;28mself\u001b[39m.handles \u001b[38;5;129;01mis\u001b[39;00m \u001b[38;5;129;01mnot\u001b[39;00m \u001b[38;5;28;01mNone\u001b[39;00m\n\u001b[32m   1891\u001b[39m f = \u001b[38;5;28mself\u001b[39m.handles.handle\n",
      "\u001b[36mFile \u001b[39m\u001b[32m~/Documents/ETL-LUGI-PROJECT/.venv/lib/python3.12/site-packages/pandas/io/common.py:873\u001b[39m, in \u001b[36mget_handle\u001b[39m\u001b[34m(path_or_buf, mode, encoding, compression, memory_map, is_text, errors, storage_options)\u001b[39m\n\u001b[32m    868\u001b[39m \u001b[38;5;28;01melif\u001b[39;00m \u001b[38;5;28misinstance\u001b[39m(handle, \u001b[38;5;28mstr\u001b[39m):\n\u001b[32m    869\u001b[39m     \u001b[38;5;66;03m# Check whether the filename is to be opened in binary mode.\u001b[39;00m\n\u001b[32m    870\u001b[39m     \u001b[38;5;66;03m# Binary mode does not support 'encoding' and 'newline'.\u001b[39;00m\n\u001b[32m    871\u001b[39m     \u001b[38;5;28;01mif\u001b[39;00m ioargs.encoding \u001b[38;5;129;01mand\u001b[39;00m \u001b[33m\"\u001b[39m\u001b[33mb\u001b[39m\u001b[33m\"\u001b[39m \u001b[38;5;129;01mnot\u001b[39;00m \u001b[38;5;129;01min\u001b[39;00m ioargs.mode:\n\u001b[32m    872\u001b[39m         \u001b[38;5;66;03m# Encoding\u001b[39;00m\n\u001b[32m--> \u001b[39m\u001b[32m873\u001b[39m         handle = \u001b[38;5;28;43mopen\u001b[39;49m\u001b[43m(\u001b[49m\n\u001b[32m    874\u001b[39m \u001b[43m            \u001b[49m\u001b[43mhandle\u001b[49m\u001b[43m,\u001b[49m\n\u001b[32m    875\u001b[39m \u001b[43m            \u001b[49m\u001b[43mioargs\u001b[49m\u001b[43m.\u001b[49m\u001b[43mmode\u001b[49m\u001b[43m,\u001b[49m\n\u001b[32m    876\u001b[39m \u001b[43m            \u001b[49m\u001b[43mencoding\u001b[49m\u001b[43m=\u001b[49m\u001b[43mioargs\u001b[49m\u001b[43m.\u001b[49m\u001b[43mencoding\u001b[49m\u001b[43m,\u001b[49m\n\u001b[32m    877\u001b[39m \u001b[43m            \u001b[49m\u001b[43merrors\u001b[49m\u001b[43m=\u001b[49m\u001b[43merrors\u001b[49m\u001b[43m,\u001b[49m\n\u001b[32m    878\u001b[39m \u001b[43m            \u001b[49m\u001b[43mnewline\u001b[49m\u001b[43m=\u001b[49m\u001b[33;43m\"\u001b[39;49m\u001b[33;43m\"\u001b[39;49m\u001b[43m,\u001b[49m\n\u001b[32m    879\u001b[39m \u001b[43m        \u001b[49m\u001b[43m)\u001b[49m\n\u001b[32m    880\u001b[39m     \u001b[38;5;28;01melse\u001b[39;00m:\n\u001b[32m    881\u001b[39m         \u001b[38;5;66;03m# Binary mode\u001b[39;00m\n\u001b[32m    882\u001b[39m         handle = \u001b[38;5;28mopen\u001b[39m(handle, ioargs.mode)\n",
      "\u001b[31mFileNotFoundError\u001b[39m: [Errno 2] No such file or directory: 'Data_sales_source/ElectronicsProductsPricingData.csv'"
     ]
    }
   ],
   "source": [
    "df_sales = pd.read_csv(path_file)"
   ]
  },
  {
   "cell_type": "code",
   "execution_count": null,
   "id": "213129d4",
   "metadata": {},
   "outputs": [
    {
     "data": {
      "text/html": [
       "<div>\n",
       "<style scoped>\n",
       "    .dataframe tbody tr th:only-of-type {\n",
       "        vertical-align: middle;\n",
       "    }\n",
       "\n",
       "    .dataframe tbody tr th {\n",
       "        vertical-align: top;\n",
       "    }\n",
       "\n",
       "    .dataframe thead th {\n",
       "        text-align: right;\n",
       "    }\n",
       "</style>\n",
       "<table border=\"1\" class=\"dataframe\">\n",
       "  <thead>\n",
       "    <tr style=\"text-align: right;\">\n",
       "      <th></th>\n",
       "      <th>id</th>\n",
       "      <th>prices.amountMax</th>\n",
       "      <th>prices.amountMin</th>\n",
       "      <th>prices.availability</th>\n",
       "      <th>prices.condition</th>\n",
       "      <th>prices.currency</th>\n",
       "      <th>prices.dateSeen</th>\n",
       "      <th>prices.isSale</th>\n",
       "      <th>prices.merchant</th>\n",
       "      <th>prices.shipping</th>\n",
       "      <th>...</th>\n",
       "      <th>name</th>\n",
       "      <th>primaryCategories</th>\n",
       "      <th>sourceURLs</th>\n",
       "      <th>upc</th>\n",
       "      <th>weight</th>\n",
       "      <th>Unnamed: 26</th>\n",
       "      <th>Unnamed: 27</th>\n",
       "      <th>Unnamed: 28</th>\n",
       "      <th>Unnamed: 29</th>\n",
       "      <th>Unnamed: 30</th>\n",
       "    </tr>\n",
       "  </thead>\n",
       "  <tbody>\n",
       "    <tr>\n",
       "      <th>0</th>\n",
       "      <td>AVphzgbJLJeJML43fA0o</td>\n",
       "      <td>104.99</td>\n",
       "      <td>104.99</td>\n",
       "      <td>Yes</td>\n",
       "      <td>New</td>\n",
       "      <td>USD</td>\n",
       "      <td>2017-03-30T06:00:00Z,2017-03-10T22:00:00Z,2017...</td>\n",
       "      <td>False</td>\n",
       "      <td>Bestbuy.com</td>\n",
       "      <td>NaN</td>\n",
       "      <td>...</td>\n",
       "      <td>Sanus VLF410B1 10-Inch Super Slim Full-Motion ...</td>\n",
       "      <td>Electronics</td>\n",
       "      <td>https://www.amazon.com/Sanus-VLF410B1-10-Inch-...</td>\n",
       "      <td>7.94E+11</td>\n",
       "      <td>32.8 pounds</td>\n",
       "      <td>NaN</td>\n",
       "      <td>NaN</td>\n",
       "      <td>NaN</td>\n",
       "      <td>NaN</td>\n",
       "      <td>NaN</td>\n",
       "    </tr>\n",
       "    <tr>\n",
       "      <th>1</th>\n",
       "      <td>AVpgMuGwLJeJML43KY_c</td>\n",
       "      <td>69.00</td>\n",
       "      <td>64.99</td>\n",
       "      <td>In Stock</td>\n",
       "      <td>New</td>\n",
       "      <td>USD</td>\n",
       "      <td>2017-12-14T06:00:00Z</td>\n",
       "      <td>True</td>\n",
       "      <td>Walmart.com</td>\n",
       "      <td>Expedited</td>\n",
       "      <td>...</td>\n",
       "      <td>Boytone - 2500W 2.1-Ch. Home Theater System - ...</td>\n",
       "      <td>Electronics</td>\n",
       "      <td>http://reviews.bestbuy.com/3545/4784804/review...</td>\n",
       "      <td>6.42E+11</td>\n",
       "      <td>14 pounds</td>\n",
       "      <td>NaN</td>\n",
       "      <td>NaN</td>\n",
       "      <td>NaN</td>\n",
       "      <td>NaN</td>\n",
       "      <td>NaN</td>\n",
       "    </tr>\n",
       "    <tr>\n",
       "      <th>2</th>\n",
       "      <td>AVpgMuGwLJeJML43KY_c</td>\n",
       "      <td>69.00</td>\n",
       "      <td>69.00</td>\n",
       "      <td>In Stock</td>\n",
       "      <td>New</td>\n",
       "      <td>USD</td>\n",
       "      <td>2017-09-08T05:00:00Z</td>\n",
       "      <td>False</td>\n",
       "      <td>Walmart.com</td>\n",
       "      <td>Expedited</td>\n",
       "      <td>...</td>\n",
       "      <td>Boytone - 2500W 2.1-Ch. Home Theater System - ...</td>\n",
       "      <td>Electronics</td>\n",
       "      <td>http://reviews.bestbuy.com/3545/4784804/review...</td>\n",
       "      <td>6.42E+11</td>\n",
       "      <td>14 pounds</td>\n",
       "      <td>NaN</td>\n",
       "      <td>NaN</td>\n",
       "      <td>NaN</td>\n",
       "      <td>NaN</td>\n",
       "      <td>NaN</td>\n",
       "    </tr>\n",
       "  </tbody>\n",
       "</table>\n",
       "<p>3 rows × 31 columns</p>\n",
       "</div>"
      ],
      "text/plain": [
       "                     id  prices.amountMax  prices.amountMin  \\\n",
       "0  AVphzgbJLJeJML43fA0o            104.99            104.99   \n",
       "1  AVpgMuGwLJeJML43KY_c             69.00             64.99   \n",
       "2  AVpgMuGwLJeJML43KY_c             69.00             69.00   \n",
       "\n",
       "  prices.availability prices.condition prices.currency  \\\n",
       "0                 Yes              New             USD   \n",
       "1            In Stock              New             USD   \n",
       "2            In Stock              New             USD   \n",
       "\n",
       "                                     prices.dateSeen  prices.isSale  \\\n",
       "0  2017-03-30T06:00:00Z,2017-03-10T22:00:00Z,2017...          False   \n",
       "1                               2017-12-14T06:00:00Z           True   \n",
       "2                               2017-09-08T05:00:00Z          False   \n",
       "\n",
       "  prices.merchant prices.shipping  ...  \\\n",
       "0     Bestbuy.com             NaN  ...   \n",
       "1     Walmart.com       Expedited  ...   \n",
       "2     Walmart.com       Expedited  ...   \n",
       "\n",
       "                                                name primaryCategories  \\\n",
       "0  Sanus VLF410B1 10-Inch Super Slim Full-Motion ...       Electronics   \n",
       "1  Boytone - 2500W 2.1-Ch. Home Theater System - ...       Electronics   \n",
       "2  Boytone - 2500W 2.1-Ch. Home Theater System - ...       Electronics   \n",
       "\n",
       "                                          sourceURLs       upc       weight  \\\n",
       "0  https://www.amazon.com/Sanus-VLF410B1-10-Inch-...  7.94E+11  32.8 pounds   \n",
       "1  http://reviews.bestbuy.com/3545/4784804/review...  6.42E+11    14 pounds   \n",
       "2  http://reviews.bestbuy.com/3545/4784804/review...  6.42E+11    14 pounds   \n",
       "\n",
       "  Unnamed: 26 Unnamed: 27 Unnamed: 28 Unnamed: 29 Unnamed: 30  \n",
       "0         NaN         NaN         NaN         NaN         NaN  \n",
       "1         NaN         NaN         NaN         NaN         NaN  \n",
       "2         NaN         NaN         NaN         NaN         NaN  \n",
       "\n",
       "[3 rows x 31 columns]"
      ]
     },
     "execution_count": 99,
     "metadata": {},
     "output_type": "execute_result"
    }
   ],
   "source": [
    "df_sales.head(3)"
   ]
  },
  {
   "cell_type": "code",
   "execution_count": 9,
   "id": "4d615fc8",
   "metadata": {},
   "outputs": [
    {
     "ename": "NameError",
     "evalue": "name 'df_sales' is not defined",
     "output_type": "error",
     "traceback": [
      "\u001b[31m---------------------------------------------------------------------------\u001b[39m",
      "\u001b[31mNameError\u001b[39m                                 Traceback (most recent call last)",
      "\u001b[36mCell\u001b[39m\u001b[36m \u001b[39m\u001b[32mIn[9]\u001b[39m\u001b[32m, line 1\u001b[39m\n\u001b[32m----> \u001b[39m\u001b[32m1\u001b[39m \u001b[43mdf_sales\u001b[49m.info()\n",
      "\u001b[31mNameError\u001b[39m: name 'df_sales' is not defined"
     ]
    }
   ],
   "source": [
    "df_sales.info()"
   ]
  },
  {
   "cell_type": "code",
   "execution_count": 10,
   "id": "09c19c45",
   "metadata": {},
   "outputs": [
    {
     "ename": "NameError",
     "evalue": "name 'df_sales' is not defined",
     "output_type": "error",
     "traceback": [
      "\u001b[31m---------------------------------------------------------------------------\u001b[39m",
      "\u001b[31mNameError\u001b[39m                                 Traceback (most recent call last)",
      "\u001b[36mCell\u001b[39m\u001b[36m \u001b[39m\u001b[32mIn[10]\u001b[39m\u001b[32m, line 3\u001b[39m\n\u001b[32m      1\u001b[39m \u001b[38;5;66;03m# cheking null data\u001b[39;00m\n\u001b[32m----> \u001b[39m\u001b[32m3\u001b[39m df = \u001b[43mdf_sales\u001b[49m.isna().sum().reset_index()\n\u001b[32m      4\u001b[39m df.columns = [\u001b[33m'\u001b[39m\u001b[33mcol\u001b[39m\u001b[33m'\u001b[39m, \u001b[33m\"\u001b[39m\u001b[33mnull_data\u001b[39m\u001b[33m\"\u001b[39m]\n\u001b[32m      6\u001b[39m cond = df[\u001b[33m'\u001b[39m\u001b[33mnull_data\u001b[39m\u001b[33m'\u001b[39m] > \u001b[32m0\u001b[39m\n",
      "\u001b[31mNameError\u001b[39m: name 'df_sales' is not defined"
     ]
    }
   ],
   "source": [
    "# cheking null data\n",
    "\n",
    "df = df_sales.isna().sum().reset_index()\n",
    "df.columns = ['col', \"null_data\"]\n",
    "\n",
    "cond = df['null_data'] > 0\n",
    "df_null = df[cond]\n",
    "df_null['null_percentage'] = (df['null_data'] / len(df_sales) )* 100\n",
    "df_null"
   ]
  },
  {
   "cell_type": "code",
   "execution_count": 11,
   "id": "7449aace",
   "metadata": {},
   "outputs": [
    {
     "ename": "NameError",
     "evalue": "name 'df_sales' is not defined",
     "output_type": "error",
     "traceback": [
      "\u001b[31m---------------------------------------------------------------------------\u001b[39m",
      "\u001b[31mNameError\u001b[39m                                 Traceback (most recent call last)",
      "\u001b[36mCell\u001b[39m\u001b[36m \u001b[39m\u001b[32mIn[11]\u001b[39m\u001b[32m, line 3\u001b[39m\n\u001b[32m      1\u001b[39m \u001b[38;5;66;03m# comple data null\u001b[39;00m\n\u001b[32m----> \u001b[39m\u001b[32m3\u001b[39m data = \u001b[43mdf_sales\u001b[49m[[\u001b[33m'\u001b[39m\u001b[33mprices.amountMin\u001b[39m\u001b[33m'\u001b[39m, \u001b[33m'\u001b[39m\u001b[33mprices.amountMax\u001b[39m\u001b[33m'\u001b[39m, \u001b[33m'\u001b[39m\u001b[33mprices.shipping\u001b[39m\u001b[33m'\u001b[39m, \u001b[33m'\u001b[39m\u001b[33mmanufacturer\u001b[39m\u001b[33m'\u001b[39m, \u001b[33m'\u001b[39m\u001b[33mname\u001b[39m\u001b[33m'\u001b[39m]]\n",
      "\u001b[31mNameError\u001b[39m: name 'df_sales' is not defined"
     ]
    }
   ],
   "source": [
    "# comple data null\n",
    "\n",
    "data = df_sales[['prices.amountMin', 'prices.amountMax', 'prices.shipping', 'manufacturer', 'name']]\n"
   ]
  },
  {
   "cell_type": "code",
   "execution_count": 12,
   "id": "098078ce",
   "metadata": {},
   "outputs": [
    {
     "ename": "NameError",
     "evalue": "name 'data' is not defined",
     "output_type": "error",
     "traceback": [
      "\u001b[31m---------------------------------------------------------------------------\u001b[39m",
      "\u001b[31mNameError\u001b[39m                                 Traceback (most recent call last)",
      "\u001b[36mCell\u001b[39m\u001b[36m \u001b[39m\u001b[32mIn[12]\u001b[39m\u001b[32m, line 1\u001b[39m\n\u001b[32m----> \u001b[39m\u001b[32m1\u001b[39m data_price_shipping = \u001b[43mdata\u001b[49m[[\u001b[33m'\u001b[39m\u001b[33mprices.amountMin\u001b[39m\u001b[33m'\u001b[39m, \u001b[33m'\u001b[39m\u001b[33mprices.amountMax\u001b[39m\u001b[33m'\u001b[39m, \u001b[33m'\u001b[39m\u001b[33mprices.shipping\u001b[39m\u001b[33m'\u001b[39m]]\n\u001b[32m      2\u001b[39m data_price_shipping = data_price_shipping[data_price_shipping[\u001b[33m'\u001b[39m\u001b[33mprices.shipping\u001b[39m\u001b[33m'\u001b[39m].isna()]\n\u001b[32m      3\u001b[39m df_High_45 = data_price_shipping[data_price_shipping[\u001b[33m'\u001b[39m\u001b[33mprices.amountMax\u001b[39m\u001b[33m'\u001b[39m] > \u001b[32m45\u001b[39m]\n",
      "\u001b[31mNameError\u001b[39m: name 'data' is not defined"
     ]
    }
   ],
   "source": [
    "data_price_shipping = data[['prices.amountMin', 'prices.amountMax', 'prices.shipping']]\n",
    "data_price_shipping = data_price_shipping[data_price_shipping['prices.shipping'].isna()]\n",
    "df_High_45 = data_price_shipping[data_price_shipping['prices.amountMax'] > 45]\n",
    "df_Low_45 = data_price_shipping[data_price_shipping['prices.amountMax'] < 45]"
   ]
  },
  {
   "cell_type": "code",
   "execution_count": 13,
   "id": "9f0cbe74",
   "metadata": {},
   "outputs": [
    {
     "ename": "NameError",
     "evalue": "name 'df_Low_45' is not defined",
     "output_type": "error",
     "traceback": [
      "\u001b[31m---------------------------------------------------------------------------\u001b[39m",
      "\u001b[31mNameError\u001b[39m                                 Traceback (most recent call last)",
      "\u001b[36mCell\u001b[39m\u001b[36m \u001b[39m\u001b[32mIn[13]\u001b[39m\u001b[32m, line 1\u001b[39m\n\u001b[32m----> \u001b[39m\u001b[32m1\u001b[39m \u001b[43mdf_Low_45\u001b[49m[df_Low_45[\u001b[33m'\u001b[39m\u001b[33mprices.amountMin\u001b[39m\u001b[33m'\u001b[39m] < \u001b[32m35\u001b[39m]\n",
      "\u001b[31mNameError\u001b[39m: name 'df_Low_45' is not defined"
     ]
    }
   ],
   "source": [
    "df_Low_45[df_Low_45['prices.amountMin'] < 35]"
   ]
  },
  {
   "cell_type": "markdown",
   "id": "e5c922fb",
   "metadata": {},
   "source": [
    "untuk data price shipping dilakukan mapping berdasarkan Peromo\n",
    "Free Expedited Shipping for most orders over $49\n",
    "→ Gratis jika pembelian di atas $49\n",
    "\n",
    "Free Standard Shipping on Orders Over $49\n",
    "→ Gratis jika pembelian di atas $49\n",
    "\n",
    "Free Shipping on orders 35 and up\n",
    "→ Gratis jika pembelian di atas $35\n",
    "\n",
    "jika masih ada yang null setelah di filter 3 promo di atas akan di drop jika kurang dari 10% data yang null\n",
    "\n",
    "setelah itu akan di transfrom menjadi int agar bisa di hitung"
   ]
  },
  {
   "cell_type": "code",
   "execution_count": null,
   "id": "19381930",
   "metadata": {},
   "outputs": [],
   "source": [
    "def check_null( df):\n",
    "    df_null = df.isnull().sum().reset_index()\n",
    "    df_null.columns = ['col', 'missing_val']\n",
    "    df_null_col = df_null[df_null['missing_val'] > 0].copy()\n",
    "    df_null_col['missing_val'] = df_null_col['missing_val'].astype(int)\n",
    "    df_null_col['missing_value_percentage'] = round((df_null_col['missing_val'] / len(df)) * 100,2)\n",
    "    return df_null_col"
   ]
  },
  {
   "cell_type": "code",
   "execution_count": null,
   "id": "b8b14832",
   "metadata": {},
   "outputs": [
    {
     "data": {
      "text/plain": [
       "['ean',\n",
       " 'Unnamed: 26',\n",
       " 'Unnamed: 27',\n",
       " 'Unnamed: 28',\n",
       " 'Unnamed: 29',\n",
       " 'Unnamed: 30']"
      ]
     },
     "execution_count": 106,
     "metadata": {},
     "output_type": "execute_result"
    }
   ],
   "source": [
    "df_1 = check_null(df_sales)\n",
    "df_1 = df_1[df_1['missing_value_percentage'] > 60]\n",
    "col = list(df_1.col)\n",
    "col"
   ]
  },
  {
   "cell_type": "code",
   "execution_count": null,
   "id": "1610dbc6",
   "metadata": {},
   "outputs": [],
   "source": [
    "def drop_columns_null(df,col):\n",
    "    df_clear = df.drop(columns=col)\n",
    "    return df_clear"
   ]
  },
  {
   "cell_type": "code",
   "execution_count": null,
   "id": "a2428901",
   "metadata": {},
   "outputs": [],
   "source": [
    "df_dropped_null = drop_columns_null(df_sales, col)"
   ]
  },
  {
   "cell_type": "code",
   "execution_count": null,
   "id": "11a80761",
   "metadata": {},
   "outputs": [],
   "source": [
    "def fill_shipping(row, row_1, row_2):\n",
    "    if pd.isna(row[row_1]) and row[row_2] > 45:\n",
    "        return 'Free Expedited Shipping for most orders over $49'\n",
    "    elif pd.isna(row[row_1]) and row[row_2] > 35:\n",
    "        return 'Free Expedited Shipping for most orders over $35'\n",
    "    else:\n",
    "        return row[row_1]\n",
    "\n"
   ]
  },
  {
   "cell_type": "code",
   "execution_count": null,
   "id": "f8a3277c",
   "metadata": {},
   "outputs": [],
   "source": [
    "\n",
    "df_dropped_null['prices.shipping'] = df_dropped_null.apply(\n",
    "    fill_shipping,\n",
    "    axis=1,\n",
    "    args=('prices.shipping', 'prices.amountMin')  \n",
    ")"
   ]
  },
  {
   "cell_type": "code",
   "execution_count": null,
   "id": "e6e3f2ac",
   "metadata": {},
   "outputs": [
    {
     "data": {
      "text/html": [
       "<div>\n",
       "<style scoped>\n",
       "    .dataframe tbody tr th:only-of-type {\n",
       "        vertical-align: middle;\n",
       "    }\n",
       "\n",
       "    .dataframe tbody tr th {\n",
       "        vertical-align: top;\n",
       "    }\n",
       "\n",
       "    .dataframe thead th {\n",
       "        text-align: right;\n",
       "    }\n",
       "</style>\n",
       "<table border=\"1\" class=\"dataframe\">\n",
       "  <thead>\n",
       "    <tr style=\"text-align: right;\">\n",
       "      <th></th>\n",
       "      <th>col</th>\n",
       "      <th>missing_val</th>\n",
       "      <th>missing_value_percentage</th>\n",
       "    </tr>\n",
       "  </thead>\n",
       "  <tbody>\n",
       "    <tr>\n",
       "      <th>9</th>\n",
       "      <td>prices.shipping</td>\n",
       "      <td>203</td>\n",
       "      <td>2.80</td>\n",
       "    </tr>\n",
       "    <tr>\n",
       "      <th>18</th>\n",
       "      <td>manufacturer</td>\n",
       "      <td>4014</td>\n",
       "      <td>55.37</td>\n",
       "    </tr>\n",
       "  </tbody>\n",
       "</table>\n",
       "</div>"
      ],
      "text/plain": [
       "                col  missing_val  missing_value_percentage\n",
       "9   prices.shipping          203                      2.80\n",
       "18     manufacturer         4014                     55.37"
      ]
     },
     "execution_count": 111,
     "metadata": {},
     "output_type": "execute_result"
    }
   ],
   "source": [
    "check_null(df_dropped_null)"
   ]
  },
  {
   "cell_type": "code",
   "execution_count": null,
   "id": "d8e32549",
   "metadata": {},
   "outputs": [],
   "source": [
    "def fill_null(row):\n",
    "    if pd.isna(row['manufacturer']):\n",
    "        return row['brand']\n",
    "    else:\n",
    "        return row['manufacturer']\n",
    "\n",
    "df_dropped_null['manufacturer'] = df_dropped_null.apply(fill_null, axis=1)\n"
   ]
  },
  {
   "cell_type": "code",
   "execution_count": null,
   "id": "a24a7b28",
   "metadata": {},
   "outputs": [],
   "source": [
    "df_dropped_null['manufacturer'] = df_dropped_null['manufacturer'].fillna(df_dropped_null['brand'])"
   ]
  },
  {
   "cell_type": "code",
   "execution_count": null,
   "id": "a30f9e61",
   "metadata": {},
   "outputs": [],
   "source": [
    "def drop_null_data(df):\n",
    "    df_clean =  df.dropna()\n",
    "    return df_clean"
   ]
  },
  {
   "cell_type": "code",
   "execution_count": null,
   "id": "ea944062",
   "metadata": {},
   "outputs": [
    {
     "data": {
      "text/html": [
       "<div>\n",
       "<style scoped>\n",
       "    .dataframe tbody tr th:only-of-type {\n",
       "        vertical-align: middle;\n",
       "    }\n",
       "\n",
       "    .dataframe tbody tr th {\n",
       "        vertical-align: top;\n",
       "    }\n",
       "\n",
       "    .dataframe thead th {\n",
       "        text-align: right;\n",
       "    }\n",
       "</style>\n",
       "<table border=\"1\" class=\"dataframe\">\n",
       "  <thead>\n",
       "    <tr style=\"text-align: right;\">\n",
       "      <th></th>\n",
       "      <th>col</th>\n",
       "      <th>missing_val</th>\n",
       "      <th>missing_value_percentage</th>\n",
       "    </tr>\n",
       "  </thead>\n",
       "  <tbody>\n",
       "    <tr>\n",
       "      <th>9</th>\n",
       "      <td>prices.shipping</td>\n",
       "      <td>203</td>\n",
       "      <td>2.8</td>\n",
       "    </tr>\n",
       "  </tbody>\n",
       "</table>\n",
       "</div>"
      ],
      "text/plain": [
       "               col  missing_val  missing_value_percentage\n",
       "9  prices.shipping          203                       2.8"
      ]
     },
     "execution_count": 115,
     "metadata": {},
     "output_type": "execute_result"
    }
   ],
   "source": [
    "check_null(df_dropped_null)"
   ]
  },
  {
   "cell_type": "code",
   "execution_count": null,
   "id": "3ddd2eb6",
   "metadata": {},
   "outputs": [],
   "source": [
    "df_clean = drop_null_data(df_dropped_null)"
   ]
  },
  {
   "cell_type": "code",
   "execution_count": null,
   "id": "0f4e02af",
   "metadata": {},
   "outputs": [
    {
     "data": {
      "text/html": [
       "<div>\n",
       "<style scoped>\n",
       "    .dataframe tbody tr th:only-of-type {\n",
       "        vertical-align: middle;\n",
       "    }\n",
       "\n",
       "    .dataframe tbody tr th {\n",
       "        vertical-align: top;\n",
       "    }\n",
       "\n",
       "    .dataframe thead th {\n",
       "        text-align: right;\n",
       "    }\n",
       "</style>\n",
       "<table border=\"1\" class=\"dataframe\">\n",
       "  <thead>\n",
       "    <tr style=\"text-align: right;\">\n",
       "      <th></th>\n",
       "      <th>col</th>\n",
       "      <th>missing_val</th>\n",
       "      <th>missing_value_percentage</th>\n",
       "    </tr>\n",
       "  </thead>\n",
       "  <tbody>\n",
       "  </tbody>\n",
       "</table>\n",
       "</div>"
      ],
      "text/plain": [
       "Empty DataFrame\n",
       "Columns: [col, missing_val, missing_value_percentage]\n",
       "Index: []"
      ]
     },
     "execution_count": 117,
     "metadata": {},
     "output_type": "execute_result"
    }
   ],
   "source": [
    "check_null(df_clean)"
   ]
  },
  {
   "cell_type": "code",
   "execution_count": null,
   "id": "28e31bbc",
   "metadata": {},
   "outputs": [],
   "source": [
    "def check_duplicated(df):\n",
    "    df_cheked = df.duplicated().sum()\n",
    "    return f'total data duplicate {df_cheked}'"
   ]
  },
  {
   "cell_type": "code",
   "execution_count": null,
   "id": "ea983854",
   "metadata": {},
   "outputs": [
    {
     "data": {
      "text/plain": [
       "'total data duplicate 0'"
      ]
     },
     "execution_count": 119,
     "metadata": {},
     "output_type": "execute_result"
    }
   ],
   "source": [
    "check_duplicated(df_clean)"
   ]
  },
  {
   "cell_type": "code",
   "execution_count": null,
   "id": "ba7a0016",
   "metadata": {},
   "outputs": [
    {
     "data": {
      "text/html": [
       "<div>\n",
       "<style scoped>\n",
       "    .dataframe tbody tr th:only-of-type {\n",
       "        vertical-align: middle;\n",
       "    }\n",
       "\n",
       "    .dataframe tbody tr th {\n",
       "        vertical-align: top;\n",
       "    }\n",
       "\n",
       "    .dataframe thead th {\n",
       "        text-align: right;\n",
       "    }\n",
       "</style>\n",
       "<table border=\"1\" class=\"dataframe\">\n",
       "  <thead>\n",
       "    <tr style=\"text-align: right;\">\n",
       "      <th></th>\n",
       "      <th>id</th>\n",
       "      <th>prices.amountMax</th>\n",
       "      <th>prices.amountMin</th>\n",
       "      <th>prices.availability</th>\n",
       "      <th>prices.condition</th>\n",
       "      <th>prices.currency</th>\n",
       "      <th>prices.dateSeen</th>\n",
       "      <th>prices.isSale</th>\n",
       "      <th>prices.merchant</th>\n",
       "      <th>prices.shipping</th>\n",
       "      <th>...</th>\n",
       "      <th>dateUpdated</th>\n",
       "      <th>imageURLs</th>\n",
       "      <th>keys</th>\n",
       "      <th>manufacturer</th>\n",
       "      <th>manufacturerNumber</th>\n",
       "      <th>name</th>\n",
       "      <th>primaryCategories</th>\n",
       "      <th>sourceURLs</th>\n",
       "      <th>upc</th>\n",
       "      <th>weight</th>\n",
       "    </tr>\n",
       "  </thead>\n",
       "  <tbody>\n",
       "    <tr>\n",
       "      <th>0</th>\n",
       "      <td>AVphzgbJLJeJML43fA0o</td>\n",
       "      <td>104.99</td>\n",
       "      <td>104.99</td>\n",
       "      <td>Yes</td>\n",
       "      <td>New</td>\n",
       "      <td>USD</td>\n",
       "      <td>2017-03-30T06:00:00Z,2017-03-10T22:00:00Z,2017...</td>\n",
       "      <td>False</td>\n",
       "      <td>Bestbuy.com</td>\n",
       "      <td>Free Expedited Shipping for most orders over $49</td>\n",
       "      <td>...</td>\n",
       "      <td>2018-05-12T18:59:48Z</td>\n",
       "      <td>https://images-na.ssl-images-amazon.com/images...</td>\n",
       "      <td>sanusvlf410b110inchsuperslimfullmotionmountfor...</td>\n",
       "      <td>Sanus</td>\n",
       "      <td>VLF410B1</td>\n",
       "      <td>Sanus VLF410B1 10-Inch Super Slim Full-Motion ...</td>\n",
       "      <td>Electronics</td>\n",
       "      <td>https://www.amazon.com/Sanus-VLF410B1-10-Inch-...</td>\n",
       "      <td>7.94E+11</td>\n",
       "      <td>32.8 pounds</td>\n",
       "    </tr>\n",
       "    <tr>\n",
       "      <th>1</th>\n",
       "      <td>AVpgMuGwLJeJML43KY_c</td>\n",
       "      <td>69.00</td>\n",
       "      <td>64.99</td>\n",
       "      <td>In Stock</td>\n",
       "      <td>New</td>\n",
       "      <td>USD</td>\n",
       "      <td>2017-12-14T06:00:00Z</td>\n",
       "      <td>True</td>\n",
       "      <td>Walmart.com</td>\n",
       "      <td>Expedited</td>\n",
       "      <td>...</td>\n",
       "      <td>2018-06-13T19:39:02Z</td>\n",
       "      <td>https://images-na.ssl-images-amazon.com/images...</td>\n",
       "      <td>boytone2500w21chhometheatersystemblackdiamond/...</td>\n",
       "      <td>Boytone</td>\n",
       "      <td>BT-210F</td>\n",
       "      <td>Boytone - 2500W 2.1-Ch. Home Theater System - ...</td>\n",
       "      <td>Electronics</td>\n",
       "      <td>http://reviews.bestbuy.com/3545/4784804/review...</td>\n",
       "      <td>6.42E+11</td>\n",
       "      <td>14 pounds</td>\n",
       "    </tr>\n",
       "    <tr>\n",
       "      <th>2</th>\n",
       "      <td>AVpgMuGwLJeJML43KY_c</td>\n",
       "      <td>69.00</td>\n",
       "      <td>69.00</td>\n",
       "      <td>In Stock</td>\n",
       "      <td>New</td>\n",
       "      <td>USD</td>\n",
       "      <td>2017-09-08T05:00:00Z</td>\n",
       "      <td>False</td>\n",
       "      <td>Walmart.com</td>\n",
       "      <td>Expedited</td>\n",
       "      <td>...</td>\n",
       "      <td>2018-06-13T19:39:02Z</td>\n",
       "      <td>https://images-na.ssl-images-amazon.com/images...</td>\n",
       "      <td>boytone2500w21chhometheatersystemblackdiamond/...</td>\n",
       "      <td>Boytone</td>\n",
       "      <td>BT-210F</td>\n",
       "      <td>Boytone - 2500W 2.1-Ch. Home Theater System - ...</td>\n",
       "      <td>Electronics</td>\n",
       "      <td>http://reviews.bestbuy.com/3545/4784804/review...</td>\n",
       "      <td>6.42E+11</td>\n",
       "      <td>14 pounds</td>\n",
       "    </tr>\n",
       "    <tr>\n",
       "      <th>3</th>\n",
       "      <td>AVpgMuGwLJeJML43KY_c</td>\n",
       "      <td>69.99</td>\n",
       "      <td>69.99</td>\n",
       "      <td>Yes</td>\n",
       "      <td>New</td>\n",
       "      <td>USD</td>\n",
       "      <td>2017-10-10T05:00:00Z</td>\n",
       "      <td>False</td>\n",
       "      <td>Bestbuy.com</td>\n",
       "      <td>Free Expedited Shipping for most orders over $49</td>\n",
       "      <td>...</td>\n",
       "      <td>2018-06-13T19:39:02Z</td>\n",
       "      <td>https://images-na.ssl-images-amazon.com/images...</td>\n",
       "      <td>boytone2500w21chhometheatersystemblackdiamond/...</td>\n",
       "      <td>Boytone</td>\n",
       "      <td>BT-210F</td>\n",
       "      <td>Boytone - 2500W 2.1-Ch. Home Theater System - ...</td>\n",
       "      <td>Electronics</td>\n",
       "      <td>http://reviews.bestbuy.com/3545/4784804/review...</td>\n",
       "      <td>6.42E+11</td>\n",
       "      <td>14 pounds</td>\n",
       "    </tr>\n",
       "    <tr>\n",
       "      <th>4</th>\n",
       "      <td>AVpgMuGwLJeJML43KY_c</td>\n",
       "      <td>66.99</td>\n",
       "      <td>66.99</td>\n",
       "      <td>Yes</td>\n",
       "      <td>New</td>\n",
       "      <td>USD</td>\n",
       "      <td>2017-08-28T07:00:00Z</td>\n",
       "      <td>False</td>\n",
       "      <td>Bestbuy.com</td>\n",
       "      <td>Free Expedited Shipping for most orders over $49</td>\n",
       "      <td>...</td>\n",
       "      <td>2018-06-13T19:39:02Z</td>\n",
       "      <td>https://images-na.ssl-images-amazon.com/images...</td>\n",
       "      <td>boytone2500w21chhometheatersystemblackdiamond/...</td>\n",
       "      <td>Boytone</td>\n",
       "      <td>BT-210F</td>\n",
       "      <td>Boytone - 2500W 2.1-Ch. Home Theater System - ...</td>\n",
       "      <td>Electronics</td>\n",
       "      <td>http://reviews.bestbuy.com/3545/4784804/review...</td>\n",
       "      <td>6.42E+11</td>\n",
       "      <td>14 pounds</td>\n",
       "    </tr>\n",
       "  </tbody>\n",
       "</table>\n",
       "<p>5 rows × 25 columns</p>\n",
       "</div>"
      ],
      "text/plain": [
       "                     id  prices.amountMax  prices.amountMin  \\\n",
       "0  AVphzgbJLJeJML43fA0o            104.99            104.99   \n",
       "1  AVpgMuGwLJeJML43KY_c             69.00             64.99   \n",
       "2  AVpgMuGwLJeJML43KY_c             69.00             69.00   \n",
       "3  AVpgMuGwLJeJML43KY_c             69.99             69.99   \n",
       "4  AVpgMuGwLJeJML43KY_c             66.99             66.99   \n",
       "\n",
       "  prices.availability prices.condition prices.currency  \\\n",
       "0                 Yes              New             USD   \n",
       "1            In Stock              New             USD   \n",
       "2            In Stock              New             USD   \n",
       "3                 Yes              New             USD   \n",
       "4                 Yes              New             USD   \n",
       "\n",
       "                                     prices.dateSeen  prices.isSale  \\\n",
       "0  2017-03-30T06:00:00Z,2017-03-10T22:00:00Z,2017...          False   \n",
       "1                               2017-12-14T06:00:00Z           True   \n",
       "2                               2017-09-08T05:00:00Z          False   \n",
       "3                               2017-10-10T05:00:00Z          False   \n",
       "4                               2017-08-28T07:00:00Z          False   \n",
       "\n",
       "  prices.merchant                                   prices.shipping  ...  \\\n",
       "0     Bestbuy.com  Free Expedited Shipping for most orders over $49  ...   \n",
       "1     Walmart.com                                         Expedited  ...   \n",
       "2     Walmart.com                                         Expedited  ...   \n",
       "3     Bestbuy.com  Free Expedited Shipping for most orders over $49  ...   \n",
       "4     Bestbuy.com  Free Expedited Shipping for most orders over $49  ...   \n",
       "\n",
       "            dateUpdated                                          imageURLs  \\\n",
       "0  2018-05-12T18:59:48Z  https://images-na.ssl-images-amazon.com/images...   \n",
       "1  2018-06-13T19:39:02Z  https://images-na.ssl-images-amazon.com/images...   \n",
       "2  2018-06-13T19:39:02Z  https://images-na.ssl-images-amazon.com/images...   \n",
       "3  2018-06-13T19:39:02Z  https://images-na.ssl-images-amazon.com/images...   \n",
       "4  2018-06-13T19:39:02Z  https://images-na.ssl-images-amazon.com/images...   \n",
       "\n",
       "                                                keys manufacturer  \\\n",
       "0  sanusvlf410b110inchsuperslimfullmotionmountfor...        Sanus   \n",
       "1  boytone2500w21chhometheatersystemblackdiamond/...      Boytone   \n",
       "2  boytone2500w21chhometheatersystemblackdiamond/...      Boytone   \n",
       "3  boytone2500w21chhometheatersystemblackdiamond/...      Boytone   \n",
       "4  boytone2500w21chhometheatersystemblackdiamond/...      Boytone   \n",
       "\n",
       "  manufacturerNumber                                               name  \\\n",
       "0           VLF410B1  Sanus VLF410B1 10-Inch Super Slim Full-Motion ...   \n",
       "1            BT-210F  Boytone - 2500W 2.1-Ch. Home Theater System - ...   \n",
       "2            BT-210F  Boytone - 2500W 2.1-Ch. Home Theater System - ...   \n",
       "3            BT-210F  Boytone - 2500W 2.1-Ch. Home Theater System - ...   \n",
       "4            BT-210F  Boytone - 2500W 2.1-Ch. Home Theater System - ...   \n",
       "\n",
       "  primaryCategories                                         sourceURLs  \\\n",
       "0       Electronics  https://www.amazon.com/Sanus-VLF410B1-10-Inch-...   \n",
       "1       Electronics  http://reviews.bestbuy.com/3545/4784804/review...   \n",
       "2       Electronics  http://reviews.bestbuy.com/3545/4784804/review...   \n",
       "3       Electronics  http://reviews.bestbuy.com/3545/4784804/review...   \n",
       "4       Electronics  http://reviews.bestbuy.com/3545/4784804/review...   \n",
       "\n",
       "        upc       weight  \n",
       "0  7.94E+11  32.8 pounds  \n",
       "1  6.42E+11    14 pounds  \n",
       "2  6.42E+11    14 pounds  \n",
       "3  6.42E+11    14 pounds  \n",
       "4  6.42E+11    14 pounds  \n",
       "\n",
       "[5 rows x 25 columns]"
      ]
     },
     "execution_count": 120,
     "metadata": {},
     "output_type": "execute_result"
    }
   ],
   "source": [
    "# this is the clean data from sales_df\n",
    "df_clean.head()"
   ]
  },
  {
   "cell_type": "code",
   "execution_count": null,
   "id": "d72b401c",
   "metadata": {},
   "outputs": [],
   "source": [
    "def create_shipping_to_float(col):\n",
    "    row_int = col\n",
    "    if 'USD' in row_int:\n",
    "        val_float = row_int.split(' ')[1]\n",
    "        return float(val_float)\n",
    "    else:\n",
    "        return 0.0"
   ]
  },
  {
   "cell_type": "code",
   "execution_count": null,
   "id": "1015036c",
   "metadata": {},
   "outputs": [
    {
     "name": "stderr",
     "output_type": "stream",
     "text": [
      "/tmp/ipykernel_17412/232550742.py:1: SettingWithCopyWarning: \n",
      "A value is trying to be set on a copy of a slice from a DataFrame.\n",
      "Try using .loc[row_indexer,col_indexer] = value instead\n",
      "\n",
      "See the caveats in the documentation: https://pandas.pydata.org/pandas-docs/stable/user_guide/indexing.html#returning-a-view-versus-a-copy\n",
      "  df_clean['shipping_cost'] = df_clean['prices.shipping'].apply(create_shipping_to_float)\n"
     ]
    }
   ],
   "source": [
    "df_clean['shipping_cost'] = df_clean['prices.shipping'].apply(create_shipping_to_float)"
   ]
  },
  {
   "cell_type": "code",
   "execution_count": null,
   "id": "54858484",
   "metadata": {},
   "outputs": [
    {
     "data": {
      "text/plain": [
       "shipping_cost\n",
       "0.00      6980\n",
       "6.65         3\n",
       "196.92       2\n",
       "10.10        2\n",
       "10.00        2\n",
       "5.00         2\n",
       "150.00       2\n",
       "2.99         2\n",
       "14.00        2\n",
       "7.95         1\n",
       "60.00        1\n",
       "0.99         1\n",
       "35.03        1\n",
       "15.68        1\n",
       "20.00        1\n",
       "13.32        1\n",
       "5.99         1\n",
       "22.64        1\n",
       "13.25        1\n",
       "12.78        1\n",
       "2.85         1\n",
       "25.00        1\n",
       "15.42        1\n",
       "7.25         1\n",
       "26.09        1\n",
       "11.30        1\n",
       "20.55        1\n",
       "13.95        1\n",
       "75.00        1\n",
       "7.81         1\n",
       "27.94        1\n",
       "25.76        1\n",
       "13.60        1\n",
       "18.60        1\n",
       "13.61        1\n",
       "3.99         1\n",
       "7.50         1\n",
       "12.21        1\n",
       "3.39         1\n",
       "22.13        1\n",
       "6.00         1\n",
       "11.75        1\n",
       "4.88         1\n",
       "14.99        1\n",
       "18.00        1\n",
       "4.96         1\n",
       "179.35       1\n",
       "24.04        1\n",
       "71.77        1\n",
       "10.95        1\n",
       "140.00       1\n",
       "29.99        1\n",
       "23.47        1\n",
       "79.42        1\n",
       "37.65        1\n",
       "16.45        1\n",
       "3.80         1\n",
       "16.00        1\n",
       "Name: count, dtype: int64"
      ]
     },
     "execution_count": 123,
     "metadata": {},
     "output_type": "execute_result"
    }
   ],
   "source": [
    "df_clean['shipping_cost'].value_counts()"
   ]
  },
  {
   "cell_type": "code",
   "execution_count": null,
   "id": "bb9158a0",
   "metadata": {},
   "outputs": [
    {
     "data": {
      "text/plain": [
       "prices.shipping\n",
       "Free Expedited Shipping for most orders over $49    4124\n",
       "FREE                                                 737\n",
       "Value                                                697\n",
       "Standard                                             653\n",
       "Expedited                                            411\n",
       "                                                    ... \n",
       "USD 37.65                                              1\n",
       "Free Next Day Delivery (USA)                           1\n",
       "USD 16.45                                              1\n",
       "USD 3.80                                               1\n",
       "USD 16.00                                              1\n",
       "Name: count, Length: 75, dtype: int64"
      ]
     },
     "execution_count": 124,
     "metadata": {},
     "output_type": "execute_result"
    }
   ],
   "source": [
    "['prices.shipping'].value_counts()"
   ]
  },
  {
   "cell_type": "code",
   "execution_count": null,
   "id": "f5979371",
   "metadata": {},
   "outputs": [
    {
     "data": {
      "text/plain": [
       "Index(['id', 'prices.amountMax', 'prices.amountMin', 'prices.availability',\n",
       "       'prices.condition', 'prices.currency', 'prices.dateSeen',\n",
       "       'prices.isSale', 'prices.merchant', 'prices.shipping',\n",
       "       'prices.sourceURLs', 'asins', 'brand', 'categories', 'dateAdded',\n",
       "       'dateUpdated', 'imageURLs', 'keys', 'manufacturer',\n",
       "       'manufacturerNumber', 'name', 'primaryCategories', 'sourceURLs', 'upc',\n",
       "       'weight', 'shipping_cost'],\n",
       "      dtype='object')"
      ]
     },
     "execution_count": 126,
     "metadata": {},
     "output_type": "execute_result"
    }
   ],
   "source": [
    "df_clean.columns"
   ]
  },
  {
   "cell_type": "code",
   "execution_count": null,
   "id": "fcd7a7ea",
   "metadata": {},
   "outputs": [],
   "source": [
    "df_clean"
   ]
  },
  {
   "cell_type": "code",
   "execution_count": 18,
   "id": "ac75a6c7",
   "metadata": {},
   "outputs": [
    {
     "name": "stdout",
     "output_type": "stream",
     "text": [
      "Requirement already satisfied: python-dotenv in /home/ujeeeg/Documents/ETL-LUGI-PROJECT/.venv/lib/python3.12/site-packages (1.1.1)\n",
      "Note: you may need to restart the kernel to use updated packages.\n"
     ]
    }
   ],
   "source": [
    "pip install python-dotenv\n"
   ]
  },
  {
   "cell_type": "code",
   "execution_count": 17,
   "id": "07022ac5",
   "metadata": {},
   "outputs": [
    {
     "name": "stdout",
     "output_type": "stream",
     "text": [
      "\u001b[31mERROR: Could not find a version that satisfies the requirement os (from versions: none)\u001b[0m\u001b[31m\n",
      "\u001b[0m\u001b[31mERROR: No matching distribution found for os\u001b[0m\u001b[31m\n",
      "\u001b[0mNote: you may need to restart the kernel to use updated packages.\n"
     ]
    }
   ],
   "source": [
    "pip install os"
   ]
  },
  {
   "cell_type": "code",
   "execution_count": null,
   "id": "e3b9fbed",
   "metadata": {},
   "outputs": [],
   "source": []
  }
 ],
 "metadata": {
  "kernelspec": {
   "display_name": ".venv",
   "language": "python",
   "name": "python3"
  },
  "language_info": {
   "codemirror_mode": {
    "name": "ipython",
    "version": 3
   },
   "file_extension": ".py",
   "mimetype": "text/x-python",
   "name": "python",
   "nbconvert_exporter": "python",
   "pygments_lexer": "ipython3",
   "version": "3.12.3"
  }
 },
 "nbformat": 4,
 "nbformat_minor": 5
}
